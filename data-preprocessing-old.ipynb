{
 "cells": [
  {
   "cell_type": "code",
   "execution_count": 1,
   "id": "6858839c-5b0c-4198-b06f-faba87288002",
   "metadata": {},
   "outputs": [],
   "source": [
    "import matplotlib.pyplot as plt\n",
    "\n",
    "# Step 1: Load and tokenize data\n",
    "data = []\n",
    "\n",
    "with open('parallel-n/IITB.en-hi.en', 'r', encoding='utf-8') as f_en, \\\n",
    "     open('parallel-n/IITB.en-hi.hi', 'r', encoding='utf-8') as f_hi:\n",
    "\n",
    "    for en_line, hi_line in zip(f_en, f_hi):\n",
    "        en_tokens = en_line.strip().split()\n",
    "        hi_tokens = hi_line.strip().split()\n",
    "        data.append((en_tokens, hi_tokens))  # Save for later use\n"
   ]
  },
  {
   "cell_type": "code",
   "execution_count": 2,
   "id": "0c385a02-213d-4c8e-a7b9-b20218ffc8e3",
   "metadata": {},
   "outputs": [],
   "source": [
    "# Step 2: Compute sentence lengths\n",
    "en_lengths = [len(en) for en, _ in data]\n",
    "hi_lengths = [len(hi) for _, hi in data]"
   ]
  },
  {
   "cell_type": "code",
   "execution_count": 3,
   "id": "3a19aa27-4a32-44e1-aec5-815552d4b89f",
   "metadata": {},
   "outputs": [
    {
     "data": {
      "image/png": "[encoded data removed]",
      "text/plain": [
       "<Figure size 1200x500 with 2 Axes>"
      ]
     },
     "metadata": {},
     "output_type": "display_data"
    }
   ],
   "source": [
    "# Step 3: Plot histograms (cropped to 250 words)\n",
    "plt.figure(figsize=(12, 5))\n",
    "\n",
    "plt.subplot(1, 2, 1)\n",
    "plt.hist(en_lengths, bins=100, color='skyblue', edgecolor='black')\n",
    "plt.title('English Sentence Lengths')\n",
    "plt.xlabel('Number of Words')\n",
    "plt.ylabel('Frequency')\n",
    "plt.xlim(0, 100)  # Crop here\n",
    "\n",
    "plt.subplot(1, 2, 2)\n",
    "plt.hist(hi_lengths, bins=100, color='lightcoral', edgecolor='black')\n",
    "plt.title('Hindi Sentence Lengths')\n",
    "plt.xlabel('Number of Words')\n",
    "plt.ylabel('Frequency')\n",
    "plt.xlim(0, 100)  # Crop here\n",
    "\n",
    "plt.tight_layout()\n",
    "plt.show()\n"
   ]
  },
  {
   "cell_type": "code",
   "execution_count": 4,
   "id": "f8a7f212-da8e-4c1c-ac39-642a6fd23238",
   "metadata": {},
   "outputs": [
    {
     "name": "stdout",
     "output_type": "stream",
     "text": [
      "Found 225478 sentence pairs with Hindi length between 20 and 30 words\n"
     ]
    }
   ],
   "source": [
    "filtered_data = [\n",
    "    (en, hi) for en, hi in data\n",
    "    if 20 <= len(hi) <= 30\n",
    "]\n",
    "print(f\"Found {len(filtered_data)} sentence pairs with Hindi length between 20 and 30 words\")\n"
   ]
  },
  {
   "cell_type": "code",
   "execution_count": 5,
   "id": "b73b6878-cbcf-4f19-ab5d-785642c808a6",
   "metadata": {},
   "outputs": [
    {
     "name": "stdout",
     "output_type": "stream",
     "text": [
      "(['Accerciser', 'could', 'not', 'see', 'the', 'applications', 'on', 'your', 'desktop.', 'You', 'must', 'enable', 'desktop', 'accessibility', 'to', 'fix', 'this', 'problem.', 'Do', 'you', 'want', 'to', 'enable', 'it', 'now?'], ['एक्सेरसाइसर', 'आपके', 'डेस्कटोप', 'में', 'मौजूद', 'अनुप्रयोग', 'नहीं', 'देख', 'पाया।', 'इस', 'समस्या', 'के', 'समाधान', 'के', 'लिए', 'आपको', 'डेस्कटोप', 'पहुंचनीयता', 'को', 'सक्रिय', 'करना', 'होगा।', 'क्या', 'आप', 'इसे', 'सक्रिय', 'करना', 'चाहते', 'हैं?'])\n"
     ]
    }
   ],
   "source": [
    "print(filtered_data[0])"
   ]
  },
  {
   "cell_type": "code",
   "execution_count": 6,
   "id": "5acb37ef-4dca-4024-b259-d38a1b76332b",
   "metadata": {},
   "outputs": [],
   "source": [
    "import re\n",
    "import sentencepiece as spm\n",
    "from pathlib import Path\n",
    "\n",
    "# Your data: [[english_tokens, hindi_tokens], ...]\n",
    "# Example: data = [[\"i\", \"am\", \"happy\"], [\"मैं\", \"खुश\", \"हूँ\"]]\n",
    "\n",
    "def clean_data(data):\n",
    "    \"\"\"Clean English and Hindi tokens in the data.\"\"\"\n",
    "    cleaned_data = []\n",
    "    for eng_tokens, hin_tokens in data:\n",
    "        # Clean English: lowercase, remove non-alphanumeric\n",
    "        eng_clean = [re.sub(r'[^a-z0-9\\s]', '', t.lower()) for t in eng_tokens if t]\n",
    "        eng_clean = [t for t in eng_clean if t]  # Remove empty\n",
    "        # Clean Hindi: keep Devanagari, remove others\n",
    "        hin_clean = [re.sub(r'[^\\u0900-\\u097F\\s।]', '', t) for t in hin_tokens if t]\n",
    "        hin_clean = [t for t in hin_clean if t]\n",
    "        cleaned_data.append([' '.join(eng_clean), ' '.join(hin_clean)])  # Join tokens back to sentences\n",
    "    return cleaned_data\n",
    "\n",
    "def train_tokenizer(cleaned_data, vocab_size=14000, model_prefix='en_hi'):\n",
    "    \"\"\"Train SentencePiece tokenizer and create vocab.\"\"\"\n",
    "    # Write English and Hindi to temporary files\n",
    "    with open('temp_en.txt', 'w', encoding='utf-8') as f_en, \\\n",
    "         open('temp_hi.txt', 'w', encoding='utf-8') as f_hi:\n",
    "        for eng_sent, hin_sent in cleaned_data:\n",
    "            f_en.write(eng_sent + '\\n')\n",
    "            f_hi.write(hin_sent + '\\n')\n",
    "    \n",
    "    # Train SentencePiece model\n",
    "    spm.SentencePieceTrainer.train(\n",
    "        input='temp_en.txt,temp_hi.txt',  # Combined English and Hindi\n",
    "        model_prefix=model_prefix,\n",
    "        vocab_size=vocab_size,\n",
    "        character_coverage=1.0,  # Full coverage for Hindi\n",
    "        model_type='bpe'  # Byte-Pair Encoding\n",
    "    )\n",
    "    \n",
    "    # Load the trained tokenizer\n",
    "    sp = spm.SentencePieceProcessor()\n",
    "    sp.load(f'{model_prefix}.model')\n",
    "    return sp\n",
    "\n",
    "def tokenize_data(cleaned_data, tokenizer):\n",
    "    \"\"\"Tokenize cleaned data using the trained tokenizer.\"\"\"\n",
    "    tokenized_data = []\n",
    "    for eng_sent, hin_sent in cleaned_data:\n",
    "        eng_tokens = tokenizer.encode_as_pieces(eng_sent)  # Subword tokens\n",
    "        hin_tokens = tokenizer.encode_as_pieces(hin_sent)\n",
    "        tokenized_data.append([eng_tokens, hin_tokens])\n",
    "    return tokenized_data\n",
    "\n",
    "\n",
    "\n"
   ]
  },
  {
   "cell_type": "code",
   "execution_count": 7,
   "id": "c9246876-0712-4e05-94a9-cbb869220b2c",
   "metadata": {},
   "outputs": [],
   "source": [
    "cleaned_data = clean_data(filtered_data)"
   ]
  },
  {
   "cell_type": "code",
   "execution_count": 8,
   "id": "b0866d71-4344-42bc-8712-9022b2e6c739",
   "metadata": {},
   "outputs": [],
   "source": [
    "tokenizer = train_tokenizer(cleaned_data, vocab_size=12000)"
   ]
  },
  {
   "cell_type": "code",
   "execution_count": 9,
   "id": "8162c465-fe1a-4aef-b513-7ce6f2f57920",
   "metadata": {},
   "outputs": [],
   "source": [
    "tokenized_data = tokenize_data(cleaned_data, tokenizer)"
   ]
  },
  {
   "cell_type": "code",
   "execution_count": 10,
   "id": "1f44a8ee-ea35-4dee-b1b1-909ac8f46a4f",
   "metadata": {},
   "outputs": [
    {
     "name": "stdout",
     "output_type": "stream",
     "text": [
      "[['▁acc', 'erc', 'is', 'er', '▁could', '▁not', '▁see', '▁the', '▁applications', '▁on', '▁your', '▁des', 'k', 't', 'op', '▁you', '▁must', '▁enable', '▁des', 'k', 't', 'op', '▁access', 'ibility', '▁to', '▁f', 'ix', '▁this', '▁problem', '▁do', '▁you', '▁want', '▁to', '▁enable', '▁it', '▁now'], ['▁एक', '्', 'से', 'र', 'साइ', 'सर', '▁आपके', '▁डे', 'स्', 'कट', 'ोप', '▁में', '▁मौजूद', '▁अनुप्रयोग', '▁नहीं', '▁देख', '▁पाया', '।', '▁इस', '▁समस्या', '▁के', '▁समाधान', '▁के', '▁लिए', '▁आपको', '▁डे', 'स्', 'कट', 'ोप', '▁पहुंच', 'नीय', 'ता', '▁को', '▁सक्रिय', '▁करना', '▁होगा', '।', '▁क्या', '▁आप', '▁इसे', '▁सक्रिय', '▁करना', '▁चाहते', '▁हैं']]\n"
     ]
    }
   ],
   "source": [
    "print(tokenized_data[0])"
   ]
  },
  {
   "cell_type": "code",
   "execution_count": 11,
   "id": "9f46e747-3194-4e06-b560-971b88217933",
   "metadata": {},
   "outputs": [],
   "source": [
    "import numpy as np\n",
    "\n",
    "def tokens_to_ids(tokenized_data, tokenizer, max_len=32):\n",
    "    \"\"\"Convert tokenized data to numerical IDs with padding/truncation.\"\"\"\n",
    "    numerical_data = []\n",
    "\n",
    "    vocab_size = tokenizer.get_piece_size()\n",
    "\n",
    "    pad_id = tokenizer.pad_id()\n",
    "    if pad_id == -1:\n",
    "        pad_id = 0\n",
    "\n",
    "    bos_id = tokenizer.bos_id()\n",
    "    eos_id = tokenizer.eos_id()\n",
    "\n",
    "    for eng_tokens, hin_tokens in tokenized_data:\n",
    "        # Convert tokens to IDs\n",
    "        eng_ids = tokenizer.encode_as_ids(' '.join(eng_tokens))\n",
    "        hin_ids = tokenizer.encode_as_ids(' '.join(hin_tokens))\n",
    "\n",
    "        # English: truncate to (max_len - 2), then add BOS and EOS\n",
    "        eng_ids = eng_ids[:max_len - 2]\n",
    "        eng_ids = [bos_id] + eng_ids + [eos_id]\n",
    "        eng_ids += [pad_id] * (max_len - len(eng_ids))  # Final length = 32\n",
    "\n",
    "        # Hindi: truncate to (max_len - 1), then add BOS and EOS\n",
    "        hin_ids = hin_ids[:max_len - 1]\n",
    "        hin_ids = [bos_id] + hin_ids + [eos_id]\n",
    "        hin_ids += [pad_id] * (max_len + 1 - len(hin_ids))  # Final length = 33\n",
    "\n",
    "        numerical_data.append([eng_ids, hin_ids])\n",
    "\n",
    "    return numerical_data\n",
    "\n",
    "\n",
    "def filter_by_length(numerical_data, tokenizer, min_len=10, max_len=32):\n",
    "    \"\"\"Filter out pairs where unpadded length is outside min_len to max_len.\"\"\"\n",
    "    filtered_data = []\n",
    "    pad_id = tokenizer.pad_id()\n",
    "    if pad_id == -1:\n",
    "        pad_id = 0\n",
    "\n",
    "    for eng_ids, hin_ids in numerical_data:\n",
    "        eng_len = sum(1 for id_ in eng_ids if id_ != pad_id)\n",
    "        hin_len = sum(1 for id_ in hin_ids if id_ != pad_id)\n",
    "\n",
    "        if min_len <= eng_len <= max_len and min_len <= hin_len <= (max_len + 1):\n",
    "            filtered_data.append([eng_ids, hin_ids])\n",
    "\n",
    "    return filtered_data\n"
   ]
  },
  {
   "cell_type": "code",
   "execution_count": 12,
   "id": "ed7bf8e8-05fc-4f3d-9903-c150b5a845f4",
   "metadata": {},
   "outputs": [],
   "source": [
    "numerical_data = tokens_to_ids(tokenized_data, tokenizer, max_len=32)"
   ]
  },
  {
   "cell_type": "code",
   "execution_count": 14,
   "id": "72fc4272-92e8-4f34-b2f4-210dece8b685",
   "metadata": {},
   "outputs": [],
   "source": [
    "# Step 2: Filter by length (10–32 tokens)\n",
    "filtered_numerical_data = filter_by_length(numerical_data, tokenizer,min_len=10, max_len=32)"
   ]
  },
  {
   "cell_type": "code",
   "execution_count": 16,
   "id": "d0c7ed57-0797-45c5-b88d-f3c3b13f3d89",
   "metadata": {},
   "outputs": [],
   "source": [
    "# Step 3: Convert to numpy arrays (optional, for tensor feeding)\n",
    "numerical_arrays = np.array(filtered_numerical_data,dtype=object)  # Shape: (num_pairs, 2, max_len)"
   ]
  },
  {
   "cell_type": "code",
   "execution_count": 17,
   "id": "3e446540-e9d3-4e43-a05a-916e11377e6d",
   "metadata": {},
   "outputs": [
    {
     "name": "stdout",
     "output_type": "stream",
     "text": [
      "[[1, 685, 2877, 11897, 99, 2877, 1271, 215, 1117, 10, 7320, 134, 473, 921, 204, 4, 1437, 152, 1416, 6962, 921, 204, 4, 1437, 3304, 8188, 1259, 60, 37, 305, 11943, 2], [1, 140, 11873, 11887, 83, 62, 8069, 519, 1787, 3070, 279, 5202, 11873, 1757, 57, 3683, 6385, 205, 757, 3890, 1884, 128, 2273, 21, 4313, 21, 142, 1804, 3070, 279, 5202, 11873, 2]]\n"
     ]
    }
   ],
   "source": [
    "print(filtered_numerical_data[0])"
   ]
  },
  {
   "cell_type": "code",
   "execution_count": 18,
   "id": "cfcfb49e-3896-4b9d-8eb4-3afdb7d848ae",
   "metadata": {},
   "outputs": [],
   "source": [
    "np.save('numerical_data.npy', numerical_arrays)"
   ]
  },
  {
   "cell_type": "code",
   "execution_count": 34,
   "id": "b4931082-d19a-4aa2-8d36-dc9545f7d03e",
   "metadata": {},
   "outputs": [],
   "source": [
    "numerical_arrays = np.load('numerical_data.npy', allow_pickle=True)\n",
    "filtered_numerical_data = numerical_arrays.tolist()"
   ]
  },
  {
   "cell_type": "code",
   "execution_count": 35,
   "id": "5b7de9bd",
   "metadata": {},
   "outputs": [],
   "source": [
    "english = []\n",
    "hindi = []\n",
    "\n",
    "for en, hi in filtered_numerical_data:\n",
    "    english.append(en)\n",
    "    hindi.append(hi)"
   ]
  },
  {
   "cell_type": "code",
   "execution_count": 38,
   "id": "01688297-900e-48ef-80ec-bf699ec1d2c7",
   "metadata": {},
   "outputs": [
    {
     "ename": "IndexError",
     "evalue": "index out of range in self",
     "output_type": "error",
     "traceback": [
      "\u001b[31m---------------------------------------------------------------------------\u001b[39m",
      "\u001b[31mIndexError\u001b[39m                                Traceback (most recent call last)",
      "\u001b[36mCell\u001b[39m\u001b[36m \u001b[39m\u001b[32mIn[38]\u001b[39m\u001b[32m, line 66\u001b[39m\n\u001b[32m     63\u001b[39m             total_loss += loss.item()\n\u001b[32m     65\u001b[39m         \u001b[38;5;28mprint\u001b[39m(\u001b[33mf\u001b[39m\u001b[33m\"\u001b[39m\u001b[33mEpoch \u001b[39m\u001b[38;5;132;01m{\u001b[39;00mepoch+\u001b[32m1\u001b[39m\u001b[38;5;132;01m}\u001b[39;00m\u001b[33m/\u001b[39m\u001b[38;5;132;01m{\u001b[39;00mepochs\u001b[38;5;132;01m}\u001b[39;00m\u001b[33m, Loss: \u001b[39m\u001b[38;5;132;01m{\u001b[39;00mtotal_loss/\u001b[38;5;28mlen\u001b[39m(english)\u001b[38;5;132;01m}\u001b[39;00m\u001b[33m\"\u001b[39m)\n\u001b[32m---> \u001b[39m\u001b[32m66\u001b[39m \u001b[43mtrain\u001b[49m\u001b[43m(\u001b[49m\u001b[43m)\u001b[49m\n",
      "\u001b[36mCell\u001b[39m\u001b[36m \u001b[39m\u001b[32mIn[38]\u001b[39m\u001b[32m, line 47\u001b[39m, in \u001b[36mtrain\u001b[39m\u001b[34m()\u001b[39m\n\u001b[32m     44\u001b[39m eng_batch = torch.tensor(english[i:i+batch_size], dtype=torch.long).to(device)\n\u001b[32m     45\u001b[39m hin_batch = torch.tensor(hindi[i:i+batch_size], dtype=torch.long).to(device)\n\u001b[32m---> \u001b[39m\u001b[32m47\u001b[39m encoded_english = \u001b[43membedding_layer_encoder\u001b[49m\u001b[43m(\u001b[49m\u001b[43meng_batch\u001b[49m\u001b[43m)\u001b[49m\n\u001b[32m     48\u001b[39m encoded_hindi = embedding_layer_decoder(hin_batch[:, :-\u001b[32m1\u001b[39m])\n\u001b[32m     49\u001b[39m \u001b[38;5;28;01mfor\u001b[39;00m j \u001b[38;5;129;01min\u001b[39;00m \u001b[38;5;28mrange\u001b[39m(hin_batch.shape[\u001b[32m1\u001b[39m]-\u001b[32m1\u001b[39m):\n",
      "\u001b[36mFile \u001b[39m\u001b[32m~\\Desktop\\NLP_Major\\env\\Lib\\site-packages\\torch\\nn\\modules\\module.py:1739\u001b[39m, in \u001b[36mModule._wrapped_call_impl\u001b[39m\u001b[34m(self, *args, **kwargs)\u001b[39m\n\u001b[32m   1737\u001b[39m     \u001b[38;5;28;01mreturn\u001b[39;00m \u001b[38;5;28mself\u001b[39m._compiled_call_impl(*args, **kwargs)  \u001b[38;5;66;03m# type: ignore[misc]\u001b[39;00m\n\u001b[32m   1738\u001b[39m \u001b[38;5;28;01melse\u001b[39;00m:\n\u001b[32m-> \u001b[39m\u001b[32m1739\u001b[39m     \u001b[38;5;28;01mreturn\u001b[39;00m \u001b[38;5;28;43mself\u001b[39;49m\u001b[43m.\u001b[49m\u001b[43m_call_impl\u001b[49m\u001b[43m(\u001b[49m\u001b[43m*\u001b[49m\u001b[43margs\u001b[49m\u001b[43m,\u001b[49m\u001b[43m \u001b[49m\u001b[43m*\u001b[49m\u001b[43m*\u001b[49m\u001b[43mkwargs\u001b[49m\u001b[43m)\u001b[49m\n",
      "\u001b[36mFile \u001b[39m\u001b[32m~\\Desktop\\NLP_Major\\env\\Lib\\site-packages\\torch\\nn\\modules\\module.py:1750\u001b[39m, in \u001b[36mModule._call_impl\u001b[39m\u001b[34m(self, *args, **kwargs)\u001b[39m\n\u001b[32m   1745\u001b[39m \u001b[38;5;66;03m# If we don't have any hooks, we want to skip the rest of the logic in\u001b[39;00m\n\u001b[32m   1746\u001b[39m \u001b[38;5;66;03m# this function, and just call forward.\u001b[39;00m\n\u001b[32m   1747\u001b[39m \u001b[38;5;28;01mif\u001b[39;00m \u001b[38;5;129;01mnot\u001b[39;00m (\u001b[38;5;28mself\u001b[39m._backward_hooks \u001b[38;5;129;01mor\u001b[39;00m \u001b[38;5;28mself\u001b[39m._backward_pre_hooks \u001b[38;5;129;01mor\u001b[39;00m \u001b[38;5;28mself\u001b[39m._forward_hooks \u001b[38;5;129;01mor\u001b[39;00m \u001b[38;5;28mself\u001b[39m._forward_pre_hooks\n\u001b[32m   1748\u001b[39m         \u001b[38;5;129;01mor\u001b[39;00m _global_backward_pre_hooks \u001b[38;5;129;01mor\u001b[39;00m _global_backward_hooks\n\u001b[32m   1749\u001b[39m         \u001b[38;5;129;01mor\u001b[39;00m _global_forward_hooks \u001b[38;5;129;01mor\u001b[39;00m _global_forward_pre_hooks):\n\u001b[32m-> \u001b[39m\u001b[32m1750\u001b[39m     \u001b[38;5;28;01mreturn\u001b[39;00m \u001b[43mforward_call\u001b[49m\u001b[43m(\u001b[49m\u001b[43m*\u001b[49m\u001b[43margs\u001b[49m\u001b[43m,\u001b[49m\u001b[43m \u001b[49m\u001b[43m*\u001b[49m\u001b[43m*\u001b[49m\u001b[43mkwargs\u001b[49m\u001b[43m)\u001b[49m\n\u001b[32m   1752\u001b[39m result = \u001b[38;5;28;01mNone\u001b[39;00m\n\u001b[32m   1753\u001b[39m called_always_called_hooks = \u001b[38;5;28mset\u001b[39m()\n",
      "\u001b[36mFile \u001b[39m\u001b[32m~\\Desktop\\NLP_Major\\utils\\embedding_layer.py:13\u001b[39m, in \u001b[36mEmbeddingLayer.forward\u001b[39m\u001b[34m(self, x)\u001b[39m\n\u001b[32m     11\u001b[39m \u001b[38;5;28;01mdef\u001b[39;00m\u001b[38;5;250m \u001b[39m\u001b[34mforward\u001b[39m(\u001b[38;5;28mself\u001b[39m, x):\n\u001b[32m     12\u001b[39m     x = x.to(\u001b[38;5;28mself\u001b[39m.device)\n\u001b[32m---> \u001b[39m\u001b[32m13\u001b[39m     \u001b[38;5;28;01mreturn\u001b[39;00m \u001b[38;5;28;43mself\u001b[39;49m\u001b[43m.\u001b[49m\u001b[43membedding\u001b[49m\u001b[43m(\u001b[49m\u001b[43mx\u001b[49m\u001b[43m)\u001b[49m\n",
      "\u001b[36mFile \u001b[39m\u001b[32m~\\Desktop\\NLP_Major\\env\\Lib\\site-packages\\torch\\nn\\modules\\module.py:1739\u001b[39m, in \u001b[36mModule._wrapped_call_impl\u001b[39m\u001b[34m(self, *args, **kwargs)\u001b[39m\n\u001b[32m   1737\u001b[39m     \u001b[38;5;28;01mreturn\u001b[39;00m \u001b[38;5;28mself\u001b[39m._compiled_call_impl(*args, **kwargs)  \u001b[38;5;66;03m# type: ignore[misc]\u001b[39;00m\n\u001b[32m   1738\u001b[39m \u001b[38;5;28;01melse\u001b[39;00m:\n\u001b[32m-> \u001b[39m\u001b[32m1739\u001b[39m     \u001b[38;5;28;01mreturn\u001b[39;00m \u001b[38;5;28;43mself\u001b[39;49m\u001b[43m.\u001b[49m\u001b[43m_call_impl\u001b[49m\u001b[43m(\u001b[49m\u001b[43m*\u001b[49m\u001b[43margs\u001b[49m\u001b[43m,\u001b[49m\u001b[43m \u001b[49m\u001b[43m*\u001b[49m\u001b[43m*\u001b[49m\u001b[43mkwargs\u001b[49m\u001b[43m)\u001b[49m\n",
      "\u001b[36mFile \u001b[39m\u001b[32m~\\Desktop\\NLP_Major\\env\\Lib\\site-packages\\torch\\nn\\modules\\module.py:1750\u001b[39m, in \u001b[36mModule._call_impl\u001b[39m\u001b[34m(self, *args, **kwargs)\u001b[39m\n\u001b[32m   1745\u001b[39m \u001b[38;5;66;03m# If we don't have any hooks, we want to skip the rest of the logic in\u001b[39;00m\n\u001b[32m   1746\u001b[39m \u001b[38;5;66;03m# this function, and just call forward.\u001b[39;00m\n\u001b[32m   1747\u001b[39m \u001b[38;5;28;01mif\u001b[39;00m \u001b[38;5;129;01mnot\u001b[39;00m (\u001b[38;5;28mself\u001b[39m._backward_hooks \u001b[38;5;129;01mor\u001b[39;00m \u001b[38;5;28mself\u001b[39m._backward_pre_hooks \u001b[38;5;129;01mor\u001b[39;00m \u001b[38;5;28mself\u001b[39m._forward_hooks \u001b[38;5;129;01mor\u001b[39;00m \u001b[38;5;28mself\u001b[39m._forward_pre_hooks\n\u001b[32m   1748\u001b[39m         \u001b[38;5;129;01mor\u001b[39;00m _global_backward_pre_hooks \u001b[38;5;129;01mor\u001b[39;00m _global_backward_hooks\n\u001b[32m   1749\u001b[39m         \u001b[38;5;129;01mor\u001b[39;00m _global_forward_hooks \u001b[38;5;129;01mor\u001b[39;00m _global_forward_pre_hooks):\n\u001b[32m-> \u001b[39m\u001b[32m1750\u001b[39m     \u001b[38;5;28;01mreturn\u001b[39;00m \u001b[43mforward_call\u001b[49m\u001b[43m(\u001b[49m\u001b[43m*\u001b[49m\u001b[43margs\u001b[49m\u001b[43m,\u001b[49m\u001b[43m \u001b[49m\u001b[43m*\u001b[49m\u001b[43m*\u001b[49m\u001b[43mkwargs\u001b[49m\u001b[43m)\u001b[49m\n\u001b[32m   1752\u001b[39m result = \u001b[38;5;28;01mNone\u001b[39;00m\n\u001b[32m   1753\u001b[39m called_always_called_hooks = \u001b[38;5;28mset\u001b[39m()\n",
      "\u001b[36mFile \u001b[39m\u001b[32m~\\Desktop\\NLP_Major\\env\\Lib\\site-packages\\torch\\nn\\modules\\sparse.py:190\u001b[39m, in \u001b[36mEmbedding.forward\u001b[39m\u001b[34m(self, input)\u001b[39m\n\u001b[32m    189\u001b[39m \u001b[38;5;28;01mdef\u001b[39;00m\u001b[38;5;250m \u001b[39m\u001b[34mforward\u001b[39m(\u001b[38;5;28mself\u001b[39m, \u001b[38;5;28minput\u001b[39m: Tensor) -> Tensor:\n\u001b[32m--> \u001b[39m\u001b[32m190\u001b[39m     \u001b[38;5;28;01mreturn\u001b[39;00m \u001b[43mF\u001b[49m\u001b[43m.\u001b[49m\u001b[43membedding\u001b[49m\u001b[43m(\u001b[49m\n\u001b[32m    191\u001b[39m \u001b[43m        \u001b[49m\u001b[38;5;28;43minput\u001b[39;49m\u001b[43m,\u001b[49m\n\u001b[32m    192\u001b[39m \u001b[43m        \u001b[49m\u001b[38;5;28;43mself\u001b[39;49m\u001b[43m.\u001b[49m\u001b[43mweight\u001b[49m\u001b[43m,\u001b[49m\n\u001b[32m    193\u001b[39m \u001b[43m        \u001b[49m\u001b[38;5;28;43mself\u001b[39;49m\u001b[43m.\u001b[49m\u001b[43mpadding_idx\u001b[49m\u001b[43m,\u001b[49m\n\u001b[32m    194\u001b[39m \u001b[43m        \u001b[49m\u001b[38;5;28;43mself\u001b[39;49m\u001b[43m.\u001b[49m\u001b[43mmax_norm\u001b[49m\u001b[43m,\u001b[49m\n\u001b[32m    195\u001b[39m \u001b[43m        \u001b[49m\u001b[38;5;28;43mself\u001b[39;49m\u001b[43m.\u001b[49m\u001b[43mnorm_type\u001b[49m\u001b[43m,\u001b[49m\n\u001b[32m    196\u001b[39m \u001b[43m        \u001b[49m\u001b[38;5;28;43mself\u001b[39;49m\u001b[43m.\u001b[49m\u001b[43mscale_grad_by_freq\u001b[49m\u001b[43m,\u001b[49m\n\u001b[32m    197\u001b[39m \u001b[43m        \u001b[49m\u001b[38;5;28;43mself\u001b[39;49m\u001b[43m.\u001b[49m\u001b[43msparse\u001b[49m\u001b[43m,\u001b[49m\n\u001b[32m    198\u001b[39m \u001b[43m    \u001b[49m\u001b[43m)\u001b[49m\n",
      "\u001b[36mFile \u001b[39m\u001b[32m~\\Desktop\\NLP_Major\\env\\Lib\\site-packages\\torch\\nn\\functional.py:2551\u001b[39m, in \u001b[36membedding\u001b[39m\u001b[34m(input, weight, padding_idx, max_norm, norm_type, scale_grad_by_freq, sparse)\u001b[39m\n\u001b[32m   2545\u001b[39m     \u001b[38;5;66;03m# Note [embedding_renorm set_grad_enabled]\u001b[39;00m\n\u001b[32m   2546\u001b[39m     \u001b[38;5;66;03m# XXX: equivalent to\u001b[39;00m\n\u001b[32m   2547\u001b[39m     \u001b[38;5;66;03m# with torch.no_grad():\u001b[39;00m\n\u001b[32m   2548\u001b[39m     \u001b[38;5;66;03m#   torch.embedding_renorm_\u001b[39;00m\n\u001b[32m   2549\u001b[39m     \u001b[38;5;66;03m# remove once script supports set_grad_enabled\u001b[39;00m\n\u001b[32m   2550\u001b[39m     _no_grad_embedding_renorm_(weight, \u001b[38;5;28minput\u001b[39m, max_norm, norm_type)\n\u001b[32m-> \u001b[39m\u001b[32m2551\u001b[39m \u001b[38;5;28;01mreturn\u001b[39;00m \u001b[43mtorch\u001b[49m\u001b[43m.\u001b[49m\u001b[43membedding\u001b[49m\u001b[43m(\u001b[49m\u001b[43mweight\u001b[49m\u001b[43m,\u001b[49m\u001b[43m \u001b[49m\u001b[38;5;28;43minput\u001b[39;49m\u001b[43m,\u001b[49m\u001b[43m \u001b[49m\u001b[43mpadding_idx\u001b[49m\u001b[43m,\u001b[49m\u001b[43m \u001b[49m\u001b[43mscale_grad_by_freq\u001b[49m\u001b[43m,\u001b[49m\u001b[43m \u001b[49m\u001b[43msparse\u001b[49m\u001b[43m)\u001b[49m\n",
      "\u001b[31mIndexError\u001b[39m: index out of range in self"
     ]
    }
   ],
   "source": [
    "import torch\n",
    "import torch.nn\n",
    "from transformer import Transformer\n",
    "from encoder.encoder import Encoder\n",
    "from decoder.decoder import Decoder\n",
    "from utils.embedding_layer import EmbeddingLayer\n",
    "from utils.positional_embedding import PositionalEmbedding\n",
    "\n",
    "dim_model = 128\n",
    "n_heads = 8\n",
    "dim_ff = 512\n",
    "dropout = 0.1\n",
    "vocab_size = 12000\n",
    "n_encoder_layers = 5\n",
    "n_decoder_layers = 5\n",
    "max_len = 32\n",
    "batch_size = 64\n",
    "learning_rate = 0.001\n",
    "epochs = 20\n",
    "device='cpu'\n",
    "position = PositionalEmbedding(max_len,dim_model,device)\n",
    "epochs=20\n",
    "def train():\n",
    "    # Initialize model components\n",
    "    embedding_layer_encoder = EmbeddingLayer(vocab_size, dim_model,None, device)\n",
    "    embedding_layer_decoder = EmbeddingLayer(vocab_size, dim_model,None,  device)\n",
    "    encoder = Encoder(dim_model, n_heads, dim_ff, n_encoder_layers, dropout,device)\n",
    "    decoder = Decoder(dim_model, n_heads, dim_ff, n_decoder_layers, dropout,device)\n",
    "    transformer = Transformer(encoder, decoder)\n",
    "\n",
    "    # Move model to device\n",
    "    transformer.to(device)\n",
    "\n",
    "    # Define loss function and optimizer\n",
    "    criterion = torch.nn.CrossEntropyLoss()\n",
    "    optimizer = torch.optim.Adam(transformer.parameters(), lr=learning_rate)\n",
    "\n",
    "    # Training loop\n",
    "    for epoch in range(epochs):\n",
    "        transformer.train()\n",
    "        total_loss = 0.0\n",
    "\n",
    "        for i in range(0, len(english), batch_size):\n",
    "            eng_batch = torch.tensor(english[i:i+batch_size], dtype=torch.long).to(device)\n",
    "            hin_batch = torch.tensor(hindi[i:i+batch_size], dtype=torch.long).to(device)\n",
    "            \n",
    "            encoded_english = embedding_layer_encoder(eng_batch)\n",
    "            encoded_hindi = embedding_layer_decoder(hin_batch[:, :-1])\n",
    "            for j in range(hin_batch.shape[1]-1):\n",
    "                encoded_hindi[:, j, :] += position(j).to(device)\n",
    "            for j in range(eng_batch.shape[1]):\n",
    "                encoded_english[:, j, :] += position(j).to(device)\n",
    "\n",
    "            # Forward pass\n",
    "            optimizer.zero_grad()\n",
    "            output = transformer(encoded_english, encoded_hindi) \n",
    "\n",
    "            # Compute loss\n",
    "            loss = criterion(output.view(-1, vocab_size), hin_batch[:, 1:].view(-1))  # Exclude first token\n",
    "            loss.backward()\n",
    "            optimizer.step()\n",
    "\n",
    "            total_loss += loss.item()\n",
    "\n",
    "        print(f\"Epoch {epoch+1}/{epochs}, Loss: {total_loss/len(english)}\")\n",
    "train()"
   ]
  },
  {
   "cell_type": "code",
   "execution_count": null,
   "id": "f1552047-edb2-42dc-ae0e-8cb4615e7bb7",
   "metadata": {},
   "outputs": [],
   "source": []
  }
 ],
 "metadata": {
  "kernelspec": {
   "display_name": "Python 3 (ipykernel)",
   "language": "python",
   "name": "python3"
  },
  "language_info": {
   "codemirror_mode": {
    "name": "ipython",
    "version": 3
   },
   "file_extension": ".py",
   "mimetype": "text/x-python",
   "name": "python",
   "nbconvert_exporter": "python",
   "pygments_lexer": "ipython3",
   "version": "3.12.1"
  }
 },
 "nbformat": 4,
 "nbformat_minor": 5
}
